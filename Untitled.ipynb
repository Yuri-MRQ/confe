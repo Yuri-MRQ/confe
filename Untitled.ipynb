{
 "cells": [
  {
   "cell_type": "code",
   "execution_count": 2,
   "metadata": {},
   "outputs": [],
   "source": [
    "from db import db"
   ]
  },
  {
   "cell_type": "code",
   "execution_count": 68,
   "metadata": {},
   "outputs": [],
   "source": [
    "from db import fornecedores"
   ]
  },
  {
   "cell_type": "code",
   "execution_count": 145,
   "metadata": {},
   "outputs": [],
   "source": [
    "st = (\"SELECT e.nav, f.nome_fornecedor, e.n_ne, e.vl_ne, e.data_ne, t1.disponivel\" \n",
    "                \" FROM nota_empenho AS e\" \n",
    "                \" JOIN fornecedores AS f\" \n",
    "                \" ON f.id = e.id_fornecedor\"\n",
    "                \" JOIN (SELECT DISTINCT e.n_ne, CASE WHEN (SUM(nf.vl_nf) > 0) THEN (e.vl_ne - SUM(nf.vl_nf) OVER (PARTITION BY e.n_ne))\"\n",
    "                \" ELSE e.vl_ne END AS disponivel\"\n",
    "                \" FROM nota_empenho AS e\"\n",
    "                \" JOIN nota_fiscal AS nf\"\n",
    "                \" ON e.n_ne = nf.n_ne\"\n",
    "                \" GROUP BY e.n_ne, e.vl_ne, nf.vl_nf) AS t1\"\n",
    "                \" ON t1.n_ne = e.n_ne\"\n",
    "                \" ORDER BY e.nav, f.nome_fornecedor, e.n_ne\")"
   ]
  },
  {
   "cell_type": "code",
   "execution_count": 161,
   "metadata": {},
   "outputs": [],
   "source": [
    "st = (\"SELECT DISTINCT e.n_ne, CASE WHEN (SUM(nf.vl_nf) > 0) THEN (e.vl_ne - SUM(nf.vl_nf) OVER (PARTITION BY e.n_ne))\"\n",
    "                \" ELSE e.vl_ne END AS disponivel\"\n",
    "                \" FROM nota_empenho AS e\"\n",
    "                \" LEFT JOIN nota_fiscal AS nf\"\n",
    "                \" ON e.n_ne = nf.n_ne\"\n",
    "                \" GROUP BY e.n_ne, e.vl_ne, nf.vl_nf\")"
   ]
  },
  {
   "cell_type": "code",
   "execution_count": 162,
   "metadata": {},
   "outputs": [],
   "source": [
    "query = db.query(st)"
   ]
  },
  {
   "cell_type": "code",
   "execution_count": null,
   "metadata": {},
   "outputs": [],
   "source": []
  },
  {
   "cell_type": "code",
   "execution_count": 163,
   "metadata": {},
   "outputs": [
    {
     "name": "stdout",
     "output_type": "stream",
     "text": [
      "OrderedDict([('n_ne', '1234567'), ('disponivel', Decimal('12345678.00'))])\n",
      "OrderedDict([('n_ne', '34'), ('disponivel', Decimal('4567'))])\n",
      "OrderedDict([('n_ne', '2020NE00539'), ('disponivel', Decimal('25.50'))])\n",
      "OrderedDict([('n_ne', '675'), ('disponivel', Decimal('2324'))])\n",
      "OrderedDict([('n_ne', '986'), ('disponivel', Decimal('125.50'))])\n",
      "OrderedDict([('n_ne', '0293847'), ('disponivel', Decimal('239238'))])\n",
      "OrderedDict([('n_ne', '45678'), ('disponivel', Decimal('9999333.00'))])\n",
      "OrderedDict([('n_ne', '2020NE00540'), ('disponivel', Decimal('25.50'))])\n",
      "OrderedDict([('n_ne', '2020NE00543'), ('disponivel', Decimal('-94.50'))])\n",
      "OrderedDict([('n_ne', '2020NE00555'), ('disponivel', Decimal('164.10'))])\n",
      "OrderedDict([('n_ne', '0987'), ('disponivel', Decimal('99988.00'))])\n"
     ]
    }
   ],
   "source": [
    "for rows in query:\n",
    "    print(rows)"
   ]
  },
  {
   "cell_type": "code",
   "execution_count": 148,
   "metadata": {},
   "outputs": [],
   "source": [
    "for rows in query:\n",
    "    print(rows)"
   ]
  },
  {
   "cell_type": "code",
   "execution_count": 112,
   "metadata": {},
   "outputs": [],
   "source": [
    "from flask_paginate import Pagination, get_page_parameter, get_page_args"
   ]
  },
  {
   "cell_type": "code",
   "execution_count": 137,
   "metadata": {},
   "outputs": [],
   "source": [
    "results = []\n",
    "for rows in query:\n",
    "    results.append(rows)"
   ]
  },
  {
   "cell_type": "code",
   "execution_count": 138,
   "metadata": {},
   "outputs": [
    {
     "data": {
      "text/plain": [
       "[OrderedDict([('nav', 'GNHo'),\n",
       "              ('nome_fornecedor', 'Allana Rezende Industria da Moda ME'),\n",
       "              ('n_ne', '2020NE00543'),\n",
       "              ('vl_ne', Decimal('125.50')),\n",
       "              ('disponivel', Decimal('-94.50'))])]"
      ]
     },
     "execution_count": 138,
     "metadata": {},
     "output_type": "execute_result"
    }
   ],
   "source": [
    "results[:1]"
   ]
  },
  {
   "cell_type": "code",
   "execution_count": 120,
   "metadata": {},
   "outputs": [
    {
     "ename": "AttributeError",
     "evalue": "'function' object has no attribute 'all'",
     "output_type": "error",
     "traceback": [
      "\u001b[0;31m---------------------------------------------------------------------------\u001b[0m",
      "\u001b[0;31mAttributeError\u001b[0m                            Traceback (most recent call last)",
      "\u001b[0;32m<ipython-input-120-c381c0038b4f>\u001b[0m in \u001b[0;36m<module>\u001b[0;34m\u001b[0m\n\u001b[0;32m----> 1\u001b[0;31m \u001b[0mdb\u001b[0m\u001b[0;34m.\u001b[0m\u001b[0mquery\u001b[0m\u001b[0;34m.\u001b[0m\u001b[0mall\u001b[0m\u001b[0;34m(\u001b[0m\u001b[0;34m)\u001b[0m\u001b[0;34m\u001b[0m\u001b[0;34m\u001b[0m\u001b[0m\n\u001b[0m",
      "\u001b[0;31mAttributeError\u001b[0m: 'function' object has no attribute 'all'"
     ]
    }
   ],
   "source": [
    "db.query.all()"
   ]
  },
  {
   "cell_type": "code",
   "execution_count": 104,
   "metadata": {},
   "outputs": [
    {
     "data": {
      "text/plain": [
       "4"
      ]
     },
     "execution_count": 104,
     "metadata": {},
     "output_type": "execute_result"
    }
   ],
   "source": [
    "len(columns_list)"
   ]
  },
  {
   "cell_type": "code",
   "execution_count": 122,
   "metadata": {},
   "outputs": [
    {
     "ename": "AttributeError",
     "evalue": "'Database' object has no attribute 'limit'",
     "output_type": "error",
     "traceback": [
      "\u001b[0;31m---------------------------------------------------------------------------\u001b[0m",
      "\u001b[0;31mAttributeError\u001b[0m                            Traceback (most recent call last)",
      "\u001b[0;32m<ipython-input-122-ab430c5dd4b9>\u001b[0m in \u001b[0;36m<module>\u001b[0;34m\u001b[0m\n\u001b[0;32m----> 1\u001b[0;31m \u001b[0mdb\u001b[0m\u001b[0;34m.\u001b[0m\u001b[0mlimit\u001b[0m\u001b[0;34m\u001b[0m\u001b[0;34m\u001b[0m\u001b[0m\n\u001b[0m",
      "\u001b[0;31mAttributeError\u001b[0m: 'Database' object has no attribute 'limit'"
     ]
    }
   ],
   "source": [
    "db.limit"
   ]
  },
  {
   "cell_type": "code",
   "execution_count": 7,
   "metadata": {},
   "outputs": [
    {
     "name": "stdout",
     "output_type": "stream",
     "text": [
      "OrderedDict([('nav', 'GNHo'), ('nome_fornecedor', 'Allana Rezende Industria da Moda ME'), ('n_ne', '2020NE00543'), ('vl_ne', Decimal('125.50')), ('disponivel', Decimal('-94.50'))])\n",
      "OrderedDict([('nav', 'GNHo'), ('nome_fornecedor', 'Novo Fornecedor'), ('n_ne', '2020NE00539'), ('vl_ne', Decimal('125.50')), ('disponivel', Decimal('25.50'))])\n",
      "OrderedDict([('nav', 'H-44'), ('nome_fornecedor', 'Allana Rezende Industria da Moda ME'), ('n_ne', '2020NE00540'), ('vl_ne', Decimal('125.50')), ('disponivel', Decimal('-174.50'))])\n",
      "OrderedDict([('nav', 'H-44'), ('nome_fornecedor', 'Allana Rezende Industria da Moda ME'), ('n_ne', '2020NE00555'), ('vl_ne', Decimal('400.00')), ('disponivel', Decimal('164.10'))])\n",
      "OrderedDict([('nav', 'H-44'), ('nome_fornecedor', 'Marisol'), ('n_ne', '0987'), ('vl_ne', Decimal('100000.00')), ('disponivel', Decimal('99988.00'))])\n",
      "OrderedDict([('nav', 'H-44'), ('nome_fornecedor', 'SOLAMARIS'), ('n_ne', '45678'), ('vl_ne', Decimal('9999999.00')), ('disponivel', Decimal('9999333.00'))])\n"
     ]
    }
   ],
   "source": [
    "'''for rows in query:\n",
    "    print(list(rows.items()))\n",
    "    columns_list.append(list(rows.items()))'''\n",
    "for rows in query:\n",
    "    print(rows)\n",
    "    columns_list.append(rows)"
   ]
  },
  {
   "cell_type": "code",
   "execution_count": 91,
   "metadata": {},
   "outputs": [],
   "source": [
    "from reportlab.pdfgen import canvas\n",
    "import tempfile\n",
    "import os\n",
    "from reportlab.platypus import SimpleDocTemplate\n",
    "from reportlab.platypus.tables import Table\n",
    "from collections import OrderedDict\n",
    "\n",
    "from reportlab.lib.pagesizes import letter, A4, landscape\n",
    "\n",
    "c = canvas.Canvas('myfile.pdf')\n",
    "c.setPageSize(A4)\n",
    "width, height = A4 #keep for later\n",
    "\n",
    "    \n",
    "   "
   ]
  },
  {
   "cell_type": "code",
   "execution_count": 87,
   "metadata": {},
   "outputs": [
    {
     "data": {
      "text/plain": [
       "(595.2755905511812, 841.8897637795277)"
      ]
     },
     "execution_count": 87,
     "metadata": {},
     "output_type": "execute_result"
    }
   ],
   "source": [
    "width, height"
   ]
  },
  {
   "cell_type": "code",
   "execution_count": 89,
   "metadata": {},
   "outputs": [
    {
     "data": {
      "text/plain": [
       "(20.995370078740162, 29.693451968503943)"
      ]
     },
     "execution_count": 89,
     "metadata": {},
     "output_type": "execute_result"
    }
   ],
   "source": [
    "wcm = width*0.03527\n",
    "hcm = height*0.03527\n",
    "\n",
    "wcm, hcm"
   ]
  },
  {
   "cell_type": "code",
   "execution_count": 95,
   "metadata": {},
   "outputs": [
    {
     "data": {
      "text/plain": [
       "(7.351086614173223, -1.346995275590558)"
      ]
     },
     "execution_count": 95,
     "metadata": {},
     "output_type": "execute_result"
    }
   ],
   "source": [
    "a = cm - wcm\n",
    "b = cm - hcm\n",
    "\n",
    "a, b"
   ]
  },
  {
   "cell_type": "code",
   "execution_count": 157,
   "metadata": {},
   "outputs": [],
   "source": [
    "from reportlab.lib.units import cm\n",
    "from reportlab.lib.colors import pink, black, red, blue, green\n"
   ]
  },
  {
   "cell_type": "code",
   "execution_count": 223,
   "metadata": {},
   "outputs": [],
   "source": [
    "width, height = A4 #keep for later\n",
    "x_max = 20.995\n",
    "y_max = 29.693\n",
    "\n",
    "def papel_gradado(nome):\n",
    "    c = canvas.Canvas('{}.pdf'.format(nome))\n",
    "    c.setPageSize(A4)\n",
    "    c.setFont('Times-Bold', 12)\n",
    "    c.line(10*cm, 0, 10*cm, 29.693451968503943 * cm)\n",
    "    c.setFont('Times-Bold', 12)\n",
    "    c.drawInlineImage(logo_marinha, 9.2*cm, 27.0*cm, 2.54*cm, 2.6*cm)\n",
    "    c.drawCentredString(10.49*cm, 26.5*cm, 'MARINHA DO BRASIL')\n",
    "    c.drawCentredString(10.49*cm, 25.5*cm, 'GRUPAMENTO DE NAVIOS HIDROCEANOGRÁFICOS')\n",
    "    c.drawCentredString(10.49*cm, 24.5*cm, 'RELATÓRIO TESTE')\n",
    "    c.setFont('Times-Roman', 12)\n",
    "    c.drawString(1*cm,  23*cm, 'Navio: Navio Antares')\n",
    "    c.line(1*cm, 22.9*cm, 19.5*cm, 22.9*cm)\n",
    "    nivel_agrup1(c, 'agrup')\n",
    "    nivel_agrup2(c, 'agrup')\n",
    "    for x in range(21):\n",
    "        c.line(x*cm, 0, x*cm, y_max*cm)\n",
    "    for y in range(60):\n",
    "        c.setStrokeColor(blue)\n",
    "        c.line(0, (y/2)*cm, x_max*cm, (y/2)*cm)\n",
    "        '''if isinstance(y, int):\n",
    "            c.drawString(1*cm, y*cm, '{} cm'.format(y))'''\n",
    "    c.showPage()\n",
    "    c.save()"
   ]
  },
  {
   "cell_type": "code",
   "execution_count": 224,
   "metadata": {},
   "outputs": [],
   "source": [
    "papel_gradado('papel_gradado')"
   ]
  },
  {
   "cell_type": "code",
   "execution_count": 854,
   "metadata": {},
   "outputs": [],
   "source": [
    "logo_marinha = '/home/ymquint/programacao/Flask/controles/static/img/marinha.png'\n",
    "\n",
    "def relatorio(nome_docu, dados):\n",
    "    '''Dados será um orderdict derivado do query'''\n",
    "    c = canvas.Canvas('{}.pdf'.format(nome_docu))\n",
    "    c.setPageSize(A4)\n",
    "    c.setFont('Times-Bold', 12)\n",
    "    c.drawInlineImage(logo_marinha, 8.5*cm, 25.1*cm, 4*cm, 4*cm)\n",
    "    c.drawCentredString(10.49*cm, 24.5*cm, 'MARINHA DO BRASIL')\n",
    "    c.drawCentredString(10.49*cm, 23.5*cm, 'GRUPAMENTO DE NAVIOS HIDROCEANOGRÁFICOS')\n",
    "    c.drawCentredString(10.49*cm, 22.5*cm, 'RELATÓRIO {}'.format(nome_docu))\n",
    "    c.setFont('Times-Roman', 12)\n",
    "    #manter tracking se já foi inserido o item uma vez para não repetir\n",
    "    controle = dict()\n",
    "    counter = []\n",
    "    total_nf = 0\n",
    "    x = 1\n",
    "    y = 22\n",
    "    page = 0\n",
    "    for rows in dados:\n",
    "        if y <= 5.0:\n",
    "            if page == 0:\n",
    "                footer(c, 'user')\n",
    "            c.showPage()\n",
    "            y = 31\n",
    "            page += 1\n",
    "            footer(c, 'user')\n",
    "        if rows['nav'] not in controle:\n",
    "            y -= 1\n",
    "            if page >= 1:\n",
    "                y = 29\n",
    "            c.drawString(x*cm,  y*cm, 'Navio: {}'.format(rows['nav']))\n",
    "            controle[rows['nav']] = [rows['nav']]\n",
    "            c.line(x*cm, (y-0.3)*cm, 18*cm, (y-0.3)*cm)\n",
    "        if rows['nome_fornecedor'] not in counter:\n",
    "            if page >= 1:\n",
    "                y = 30\n",
    "            nivel_agrup1(c, rows['nome_fornecedor'], (x+1), (y-1))\n",
    "            controle[rows['nav']].append(rows['nome_fornecedor'])\n",
    "            counter.append(rows['nome_fornecedor'])\n",
    "        elif rows['nome_fornecedor'] not in controle[rows['nav']]:\n",
    "            if page >= 1:\n",
    "                y = 30\n",
    "            nivel_agrup1(c, rows['nome_fornecedor'], (x+1), (y-1))\n",
    "            controle[rows['nav']].append(rows['nome_fornecedor'])\n",
    "        if rows['n_ne'] not in counter:\n",
    "            nivel_agrup2(c, ['NE', 'Valor', 'Saldo'], [rows['n_ne'], rows['vl_ne'], rows['disponivel']], (x+1), (y-2))\n",
    "            controle[rows['nav']].append(rows['n_ne'])\n",
    "            counter.append(rows['n_ne'])\n",
    "            y -= 1.5\n",
    "        elif rows['n_ne'] not in controle[rows['nav']]:\n",
    "            nivel_agrup2(c, ['NE', 'Valor', 'Saldo'], [rows['n_ne'], rows['vl_ne'], rows['disponivel']], (x+1), (y-2))\n",
    "            controle[rows['nav']].append(rows['n_ne'])\n",
    "            y -= 1.5\n",
    "        total_nf += rows['vl_nf']\n",
    "        y = nivel_agrup3(c, ['Nota Fiscal', 'Data', 'Valor', 'Data de pagamento'], \n",
    "                               [rows['n_nf'], rows['data_nf'], rows['vl_nf'], rows['data_pg']], (x+2.5), (y-1.5))\n",
    "    if y <= 5:\n",
    "        y = 6\n",
    "        nivel_agrup4(c, total_nf, y)\n",
    "        footer(c, 'user')\n",
    "    else:\n",
    "        nivel_agrup4(c, total_nf, y)\n",
    "    c.showPage()\n",
    "    c.save()"
   ]
  },
  {
   "cell_type": "code",
   "execution_count": 818,
   "metadata": {},
   "outputs": [],
   "source": [
    "def nivel_agrup1(c, agrup, x, y):\n",
    "    c.setFont('Times-Roman', 12)\n",
    "    c.drawString(x*cm, y*cm, 'Fornecedor: {}'.format(agrup))\n",
    "    c.line(2*cm, (y-0.3)*cm, 18*cm, (y-0.3)*cm)"
   ]
  },
  {
   "cell_type": "code",
   "execution_count": 819,
   "metadata": {},
   "outputs": [],
   "source": [
    "def nivel_agrup2(c, columns, value, x, y):\n",
    "    i = 0\n",
    "    for column in columns:\n",
    "        c.drawString(x*cm, y*cm, '{}: {}'.format(column, value[i]))\n",
    "        i +=1\n",
    "        x += (17.5)/len(columns)\n",
    "    c.line(2*cm, (y-0.3)*cm, 18*cm, (y-0.3)*cm)"
   ]
  },
  {
   "cell_type": "code",
   "execution_count": 838,
   "metadata": {},
   "outputs": [],
   "source": [
    "def nivel_agrup3(c, columns, value, x, y):\n",
    "    y_final = column_value(c, value, columns, x, y)\n",
    "    y_final -= 0\n",
    "    return y_final"
   ]
  },
  {
   "cell_type": "code",
   "execution_count": 821,
   "metadata": {},
   "outputs": [],
   "source": [
    "def nivel_agrup4(c, total_nf, y):\n",
    "    s1 = 'Total NF: R$ {}'.format(total_nf)\n",
    "    if y <= 0 :\n",
    "        y = 31\n",
    "    cursormoves1(c, s1, 15*cm, (y-3.8)*cm, 1)"
   ]
  },
  {
   "cell_type": "code",
   "execution_count": 822,
   "metadata": {},
   "outputs": [],
   "source": [
    "def footer(c, user):\n",
    "    c.drawString(12*cm, 0.5*cm, 'Relatório gerado por: nip nome')"
   ]
  },
  {
   "cell_type": "code",
   "execution_count": 823,
   "metadata": {},
   "outputs": [],
   "source": [
    "def column_value(c, values, columns, x, y):\n",
    "    i = 0\n",
    "    for column in columns:\n",
    "        c.drawCentredString(x*cm, y*cm, column)\n",
    "        c.drawCentredString(x*cm, (y - 0.5)*cm, str(values[i]))\n",
    "        i += 1\n",
    "        x += (17.5)/len(columns)\n",
    "    return y"
   ]
  },
  {
   "cell_type": "code",
   "execution_count": 824,
   "metadata": {},
   "outputs": [],
   "source": [
    "'''1 maiuscula contem 0.33*cm\n",
    "são 02 minusculas a cada 0.33*cm considerar o espaço como uma letra'''\n",
    "\n",
    "def len_cm(string):\n",
    "    length = len(string)*0.2068\n",
    "    \n",
    "    return(length)"
   ]
  },
  {
   "cell_type": "code",
   "execution_count": 825,
   "metadata": {},
   "outputs": [],
   "source": [
    "def cursormoves1(canvas, text, x, y, wordspace):\n",
    "    canvas.setFont('Times-Roman', 12)\n",
    "    textobject = canvas.beginText()\n",
    "    textobject.setTextOrigin(x, y)\n",
    "    textobject.setWordSpace(wordspace)\n",
    "    textobject.textLine(text)\n",
    "    canvas.drawText(textobject)\n"
   ]
  },
  {
   "cell_type": "code",
   "execution_count": 855,
   "metadata": {},
   "outputs": [
    {
     "name": "stdout",
     "output_type": "stream",
     "text": [
      "linha navio y=21\n",
      "função agrup3 y = 18.0\n",
      "após agrup 3 y = 18.0\n",
      "função agrup3 y = 16.5\n",
      "após agrup 3 y = 16.5\n",
      "função agrup3 y = 13.5\n",
      "após agrup 3 y = 13.5\n",
      "linha navio y=12.5\n",
      "função agrup3 y = 9.5\n",
      "após agrup 3 y = 9.5\n",
      "função agrup3 y = 8.0\n",
      "após agrup 3 y = 8.0\n",
      "função agrup3 y = 6.5\n",
      "após agrup 3 y = 6.5\n",
      "função agrup3 y = 3.5\n",
      "após agrup 3 y = 3.5\n"
     ]
    }
   ],
   "source": [
    "relatorio(\"testeRelatorio\", columns_list)"
   ]
  },
  {
   "cell_type": "code",
   "execution_count": 779,
   "metadata": {},
   "outputs": [],
   "source": [
    "counter = dict()\n",
    "counter['h44'] = ['h']\n",
    "counter['h44'].append('fornecedor')"
   ]
  },
  {
   "cell_type": "code",
   "execution_count": 794,
   "metadata": {},
   "outputs": [
    {
     "data": {
      "text/plain": [
       "True"
      ]
     },
     "execution_count": 794,
     "metadata": {},
     "output_type": "execute_result"
    }
   ],
   "source": [
    "'fornecedor' in counter['h44']"
   ]
  },
  {
   "cell_type": "code",
   "execution_count": 790,
   "metadata": {},
   "outputs": [
    {
     "name": "stdout",
     "output_type": "stream",
     "text": [
      "True\n"
     ]
    }
   ],
   "source": [
    "for a in counter.values():\n",
    "    print('h' in a)"
   ]
  },
  {
   "cell_type": "code",
   "execution_count": 856,
   "metadata": {},
   "outputs": [],
   "source": [
    "import datetime"
   ]
  },
  {
   "cell_type": "code",
   "execution_count": 862,
   "metadata": {},
   "outputs": [
    {
     "data": {
      "text/plain": [
       "datetime.date(2020, 5, 20)"
      ]
     },
     "execution_count": 862,
     "metadata": {},
     "output_type": "execute_result"
    }
   ],
   "source": [
    "columns_list[0]['data_nf']\n"
   ]
  },
  {
   "cell_type": "code",
   "execution_count": 860,
   "metadata": {},
   "outputs": [],
   "source": [
    "x = columns_list[0]['data_nf']"
   ]
  },
  {
   "cell_type": "code",
   "execution_count": 864,
   "metadata": {},
   "outputs": [
    {
     "data": {
      "text/plain": [
       "'20/05/20'"
      ]
     },
     "execution_count": 864,
     "metadata": {},
     "output_type": "execute_result"
    }
   ],
   "source": [
    "x.strftime(\"%d/%m/%y\")"
   ]
  },
  {
   "cell_type": "code",
   "execution_count": 867,
   "metadata": {},
   "outputs": [
    {
     "ename": "SyntaxError",
     "evalue": "invalid syntax (<ipython-input-867-92aadfd4a958>, line 1)",
     "output_type": "error",
     "traceback": [
      "\u001b[0;36m  File \u001b[0;32m\"<ipython-input-867-92aadfd4a958>\"\u001b[0;36m, line \u001b[0;32m1\u001b[0m\n\u001b[0;31m    x exists\u001b[0m\n\u001b[0m      ^\u001b[0m\n\u001b[0;31mSyntaxError\u001b[0m\u001b[0;31m:\u001b[0m invalid syntax\n"
     ]
    }
   ],
   "source": [
    "x exists"
   ]
  },
  {
   "cell_type": "code",
   "execution_count": 868,
   "metadata": {},
   "outputs": [
    {
     "data": {
      "text/plain": [
       "False"
      ]
     },
     "execution_count": 868,
     "metadata": {},
     "output_type": "execute_result"
    }
   ],
   "source": [
    "x in locals()"
   ]
  },
  {
   "cell_type": "code",
   "execution_count": 869,
   "metadata": {},
   "outputs": [
    {
     "data": {
      "text/plain": [
       "False"
      ]
     },
     "execution_count": 869,
     "metadata": {},
     "output_type": "execute_result"
    }
   ],
   "source": [
    "x in globals()"
   ]
  },
  {
   "cell_type": "code",
   "execution_count": 887,
   "metadata": {},
   "outputs": [
    {
     "data": {
      "text/plain": [
       "datetime.date(2020, 11, 10)"
      ]
     },
     "execution_count": 887,
     "metadata": {},
     "output_type": "execute_result"
    }
   ],
   "source": [
    "db['nota_fiscal'].find_one(id = 22)['data_pg']"
   ]
  },
  {
   "cell_type": "code",
   "execution_count": 10,
   "metadata": {},
   "outputs": [
    {
     "name": "stdout",
     "output_type": "stream",
     "text": [
      "nav\n",
      "nome_fornecedor\n",
      "n_ne\n",
      "vl_ne\n",
      "disponivel\n",
      "nav\n",
      "nome_fornecedor\n",
      "n_ne\n",
      "vl_ne\n",
      "disponivel\n",
      "nav\n",
      "nome_fornecedor\n",
      "n_ne\n",
      "vl_ne\n",
      "disponivel\n",
      "nav\n",
      "nome_fornecedor\n",
      "n_ne\n",
      "vl_ne\n",
      "disponivel\n",
      "nav\n",
      "nome_fornecedor\n",
      "n_ne\n",
      "vl_ne\n",
      "disponivel\n",
      "nav\n",
      "nome_fornecedor\n",
      "n_ne\n",
      "vl_ne\n",
      "disponivel\n"
     ]
    }
   ],
   "source": [
    "for rows in columns_list:\n",
    "    for column in rows:\n",
    "        print(column)\n"
   ]
  },
  {
   "cell_type": "code",
   "execution_count": 22,
   "metadata": {},
   "outputs": [],
   "source": [
    "dic = {'b': 'c', 'a': 'd'}"
   ]
  },
  {
   "cell_type": "code",
   "execution_count": 27,
   "metadata": {},
   "outputs": [
    {
     "name": "stdout",
     "output_type": "stream",
     "text": [
      "a d\n",
      "b c\n"
     ]
    }
   ],
   "source": [
    "for keys in dic.keys():\n",
    "    print('{} {}'.format(keys, dic[keys]))"
   ]
  },
  {
   "cell_type": "code",
   "execution_count": 24,
   "metadata": {},
   "outputs": [
    {
     "data": {
      "text/plain": [
       "{'a': 'd', 'b': 'c'}"
      ]
     },
     "execution_count": 24,
     "metadata": {},
     "output_type": "execute_result"
    }
   ],
   "source": [
    "dic"
   ]
  },
  {
   "cell_type": "code",
   "execution_count": 28,
   "metadata": {},
   "outputs": [],
   "source": [
    "dic2 = {'cd': 12}"
   ]
  },
  {
   "cell_type": "code",
   "execution_count": 29,
   "metadata": {},
   "outputs": [
    {
     "ename": "TypeError",
     "evalue": "unsupported operand type(s) for +: 'dict' and 'dict'",
     "output_type": "error",
     "traceback": [
      "\u001b[0;31m---------------------------------------------------------------------------\u001b[0m",
      "\u001b[0;31mTypeError\u001b[0m                                 Traceback (most recent call last)",
      "\u001b[0;32m<ipython-input-29-dbc6f5e3a09b>\u001b[0m in \u001b[0;36m<module>\u001b[0;34m\u001b[0m\n\u001b[0;32m----> 1\u001b[0;31m \u001b[0mdic\u001b[0m \u001b[0;34m+\u001b[0m \u001b[0mdic2\u001b[0m\u001b[0;34m\u001b[0m\u001b[0;34m\u001b[0m\u001b[0m\n\u001b[0m",
      "\u001b[0;31mTypeError\u001b[0m: unsupported operand type(s) for +: 'dict' and 'dict'"
     ]
    }
   ],
   "source": [
    "dic + dic2"
   ]
  },
  {
   "cell_type": "code",
   "execution_count": 30,
   "metadata": {},
   "outputs": [],
   "source": [
    "dic.update(dic2)"
   ]
  },
  {
   "cell_type": "code",
   "execution_count": 31,
   "metadata": {},
   "outputs": [
    {
     "data": {
      "text/plain": [
       "{'a': 'd', 'b': 'c', 'cd': 12}"
      ]
     },
     "execution_count": 31,
     "metadata": {},
     "output_type": "execute_result"
    }
   ],
   "source": [
    "dic"
   ]
  },
  {
   "cell_type": "code",
   "execution_count": 32,
   "metadata": {},
   "outputs": [
    {
     "data": {
      "text/plain": [
       "3"
      ]
     },
     "execution_count": 32,
     "metadata": {},
     "output_type": "execute_result"
    }
   ],
   "source": [
    "len(dic)"
   ]
  },
  {
   "cell_type": "code",
   "execution_count": 33,
   "metadata": {},
   "outputs": [],
   "source": [
    "dic3 = {'dc': None, 'dt': None, 'dl': None}"
   ]
  },
  {
   "cell_type": "code",
   "execution_count": 34,
   "metadata": {},
   "outputs": [],
   "source": [
    "dic.update(dic3)"
   ]
  },
  {
   "cell_type": "code",
   "execution_count": 35,
   "metadata": {},
   "outputs": [
    {
     "data": {
      "text/plain": [
       "{'a': 'd', 'b': 'c', 'cd': 12, 'dc': None, 'dt': None, 'dl': None}"
      ]
     },
     "execution_count": 35,
     "metadata": {},
     "output_type": "execute_result"
    }
   ],
   "source": [
    "dic"
   ]
  },
  {
   "cell_type": "code",
   "execution_count": 40,
   "metadata": {},
   "outputs": [
    {
     "data": {
      "text/plain": [
       "True"
      ]
     },
     "execution_count": 40,
     "metadata": {},
     "output_type": "execute_result"
    }
   ],
   "source": [
    "dic.values() != None"
   ]
  },
  {
   "cell_type": "code",
   "execution_count": 41,
   "metadata": {},
   "outputs": [],
   "source": [
    "navios = [('gnho', 'GNHo'), ('H-44', 'H-44'), ('H-41', 'H-41'), ('H-40', 'H-40'), ('H-39', 'H-39'),\n",
    " ('H-38', 'H-38'), ('H-36', 'H-36'), ('H-35', 'H-35'), ('H-34', 'H-34'), ('H-21', 'H-21'), ('H-11', 'H-11')]"
   ]
  },
  {
   "cell_type": "code",
   "execution_count": 42,
   "metadata": {},
   "outputs": [],
   "source": [
    "navios.append(('none', 'none'))"
   ]
  },
  {
   "cell_type": "code",
   "execution_count": 43,
   "metadata": {},
   "outputs": [
    {
     "data": {
      "text/plain": [
       "[('gnho', 'GNHo'),\n",
       " ('H-44', 'H-44'),\n",
       " ('H-41', 'H-41'),\n",
       " ('H-40', 'H-40'),\n",
       " ('H-39', 'H-39'),\n",
       " ('H-38', 'H-38'),\n",
       " ('H-36', 'H-36'),\n",
       " ('H-35', 'H-35'),\n",
       " ('H-34', 'H-34'),\n",
       " ('H-21', 'H-21'),\n",
       " ('H-11', 'H-11'),\n",
       " ('none', 'none')]"
      ]
     },
     "execution_count": 43,
     "metadata": {},
     "output_type": "execute_result"
    }
   ],
   "source": [
    "navios"
   ]
  },
  {
   "cell_type": "code",
   "execution_count": 47,
   "metadata": {},
   "outputs": [
    {
     "data": {
      "text/plain": [
       "True"
      ]
     },
     "execution_count": 47,
     "metadata": {},
     "output_type": "execute_result"
    }
   ],
   "source": [
    "('gnho', 'GNHo') in navios"
   ]
  },
  {
   "cell_type": "code",
   "execution_count": 49,
   "metadata": {
    "scrolled": true
   },
   "outputs": [
    {
     "name": "stdout",
     "output_type": "stream",
     "text": [
      "OrderedDict([('id', 6), ('id_fornecedor', 4), ('n_solemp', 32432432), ('n_ne', '2020NE00543'), ('vl_ne', Decimal('125.50')), ('data_ne', datetime.datetime(2020, 10, 25, 0, 0)), ('nav', 'GNHo')])\n",
      "OrderedDict([('id', 5), ('id_fornecedor', 5), ('n_solemp', 2020205), ('n_ne', '2020NE00539'), ('vl_ne', Decimal('125.50')), ('data_ne', datetime.datetime(2020, 10, 18, 0, 0)), ('nav', 'GNHo')])\n",
      "OrderedDict([('id', 4), ('id_fornecedor', 4), ('n_solemp', 20202004), ('n_ne', '2020NE00540'), ('vl_ne', Decimal('125.50')), ('data_ne', datetime.datetime(2020, 10, 25, 0, 0)), ('nav', 'H-44')])\n",
      "OrderedDict([('id', 7), ('id_fornecedor', 4), ('n_solemp', 202020072), ('n_ne', '2020NE00555'), ('vl_ne', Decimal('400.00')), ('data_ne', datetime.datetime(2020, 10, 25, 0, 0)), ('nav', 'H-44')])\n",
      "OrderedDict([('id', 8), ('id_fornecedor', 6), ('n_solemp', 1098), ('n_ne', '0987'), ('vl_ne', Decimal('100000.00')), ('data_ne', datetime.datetime(2020, 11, 17, 0, 0)), ('nav', 'H-44')])\n",
      "OrderedDict([('id', 9), ('id_fornecedor', 7), ('n_solemp', 45678), ('n_ne', '45678'), ('vl_ne', Decimal('9999999.00')), ('data_ne', datetime.datetime(2020, 11, 17, 0, 0)), ('nav', 'H-44')])\n",
      "OrderedDict([('id', 11), ('id_fornecedor', 4), ('n_solemp', 1234890), ('n_ne', '0293847'), ('vl_ne', Decimal('239238')), ('data_ne', datetime.datetime(2020, 10, 25, 0, 0)), ('nav', 'H-21')])\n",
      "OrderedDict([('id', 10), ('id_fornecedor', 4), ('n_solemp', 123456), ('n_ne', '1234567'), ('vl_ne', Decimal('12345678.00')), ('data_ne', datetime.datetime(2020, 11, 17, 0, 0)), ('nav', 'H-21')])\n"
     ]
    }
   ],
   "source": [
    "for rows in db['nota_empenho']:\n",
    "    print(rows)"
   ]
  },
  {
   "cell_type": "code",
   "execution_count": 2,
   "metadata": {},
   "outputs": [],
   "source": [
    "import datetime"
   ]
  },
  {
   "cell_type": "code",
   "execution_count": 4,
   "metadata": {},
   "outputs": [
    {
     "data": {
      "text/plain": [
       "True"
      ]
     },
     "execution_count": 4,
     "metadata": {},
     "output_type": "execute_result"
    }
   ],
   "source": [
    "datetime.datetime(2020, 10, 25) > datetime.datetime(2020, 9, 24)"
   ]
  },
  {
   "cell_type": "code",
   "execution_count": null,
   "metadata": {},
   "outputs": [],
   "source": []
  }
 ],
 "metadata": {
  "kernelspec": {
   "display_name": "Python 3",
   "language": "python",
   "name": "python3"
  },
  "language_info": {
   "codemirror_mode": {
    "name": "ipython",
    "version": 3
   },
   "file_extension": ".py",
   "mimetype": "text/x-python",
   "name": "python",
   "nbconvert_exporter": "python",
   "pygments_lexer": "ipython3",
   "version": "3.8.5"
  }
 },
 "nbformat": 4,
 "nbformat_minor": 4
}
