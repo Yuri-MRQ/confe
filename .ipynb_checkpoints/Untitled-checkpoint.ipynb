{
 "cells": [
  {
   "cell_type": "code",
   "execution_count": 1,
   "metadata": {},
   "outputs": [],
   "source": [
    "from db import db"
   ]
  },
  {
   "cell_type": "code",
   "execution_count": null,
   "metadata": {},
   "outputs": [],
   "source": []
  },
  {
   "cell_type": "code",
   "execution_count": 757,
   "metadata": {},
   "outputs": [],
   "source": [
    "st = (\"SELECT e.nav, f.nome_fornecedor, e.n_ne, e.vl_ne, t1.disponivel, nf.n_nf, nf.data_nf, nf.vl_nf, nf.data_pg\" \n",
    "    \" FROM nota_fiscal AS nf\" \n",
    "    \" JOIN nota_empenho AS e\" \n",
    "    \" ON nf.n_ne = e.n_ne\" \n",
    "    \" JOIN fornecedores AS f\" \n",
    "    \" ON f.id = e.id_fornecedor\"\n",
    "    \" JOIN (SELECT DISTINCT e.n_ne, e.vl_ne - SUM(nf.vl_nf) OVER (PARTITION BY e.n_ne) AS disponivel\" \n",
    "    \" FROM nota_empenho AS e\"\n",
    "    \" JOIN nota_fiscal AS nf\"\n",
    "    \" ON e.n_ne = nf.n_ne) AS t1\"\n",
    "    \" ON t1.n_ne = e.n_ne\"\n",
    "    \" ORDER BY e.nav, f.nome_fornecedor, e.n_ne\")"
   ]
  },
  {
   "cell_type": "code",
   "execution_count": 569,
   "metadata": {},
   "outputs": [
    {
     "name": "stdout",
     "output_type": "stream",
     "text": [
      "['id', 'cnpj', 'nome_fornecedor']\n",
      "['id', 'id_fornecedor', 'n_solemp', 'n_ne', 'vl_ne', 'data_ne', 'nav']\n",
      "['id', 'n_ne', 'n_nf', 'vl_nf', 'data_nf', 'data_entrada_nf', 'data_pg']\n"
     ]
    }
   ],
   "source": [
    "print(db['fornecedores'].columns)\n",
    "print(db['nota_empenho'].columns)\n",
    "print(db['nota_fiscal'].columns)"
   ]
  },
  {
   "cell_type": "code",
   "execution_count": 759,
   "metadata": {},
   "outputs": [],
   "source": [
    "query = db.query(st)"
   ]
  },
  {
   "cell_type": "code",
   "execution_count": 760,
   "metadata": {},
   "outputs": [],
   "source": [
    "columns_list = []"
   ]
  },
  {
   "cell_type": "code",
   "execution_count": null,
   "metadata": {},
   "outputs": [],
   "source": []
  },
  {
   "cell_type": "code",
   "execution_count": 761,
   "metadata": {},
   "outputs": [
    {
     "name": "stdout",
     "output_type": "stream",
     "text": [
      "OrderedDict([('nav', 'GNHo'), ('nome_fornecedor', 'Allana Rezende Industria da Moda ME'), ('n_ne', '2020NE00543'), ('vl_ne', Decimal('125.50')), ('disponivel', Decimal('-94.50')), ('n_nf', 123556), ('data_nf', datetime.date(2020, 5, 20)), ('vl_nf', Decimal('100')), ('data_pg', datetime.date(2020, 11, 10))])\n",
      "OrderedDict([('nav', 'GNHo'), ('nome_fornecedor', 'Allana Rezende Industria da Moda ME'), ('n_ne', '2020NE00543'), ('vl_ne', Decimal('125.50')), ('disponivel', Decimal('-94.50')), ('n_nf', 12), ('data_nf', datetime.date(2020, 5, 20)), ('vl_nf', Decimal('120')), ('data_pg', datetime.date(2020, 10, 29))])\n",
      "OrderedDict([('nav', 'GNHo'), ('nome_fornecedor', 'Novo Fornecedor'), ('n_ne', '2020NE00539'), ('vl_ne', Decimal('125.50')), ('disponivel', Decimal('25.50')), ('n_nf', 1231231), ('data_nf', datetime.date(2020, 5, 20)), ('vl_nf', Decimal('100')), ('data_pg', datetime.date(2020, 11, 10))])\n",
      "OrderedDict([('nav', 'H-44'), ('nome_fornecedor', 'Allana Rezende Industria da Moda ME'), ('n_ne', '2020NE00540'), ('vl_ne', Decimal('125.50')), ('disponivel', Decimal('-174.50')), ('n_nf', 2), ('data_nf', datetime.date(2020, 10, 24)), ('vl_nf', Decimal('100.00')), ('data_pg', datetime.date(2020, 11, 10))])\n",
      "OrderedDict([('nav', 'H-44'), ('nome_fornecedor', 'Allana Rezende Industria da Moda ME'), ('n_ne', '2020NE00540'), ('vl_ne', Decimal('125.50')), ('disponivel', Decimal('-174.50')), ('n_nf', 127), ('data_nf', datetime.date(2020, 5, 20)), ('vl_nf', Decimal('100')), ('data_pg', datetime.date(2020, 11, 10))])\n",
      "OrderedDict([('nav', 'H-44'), ('nome_fornecedor', 'Allana Rezende Industria da Moda ME'), ('n_ne', '2020NE00540'), ('vl_ne', Decimal('125.50')), ('disponivel', Decimal('-174.50')), ('n_nf', 456), ('data_nf', datetime.date(2020, 10, 21)), ('vl_nf', Decimal('100')), ('data_pg', datetime.date(2020, 11, 10))])\n",
      "OrderedDict([('nav', 'H-44'), ('nome_fornecedor', 'Allana Rezende Industria da Moda ME'), ('n_ne', '2020NE00555'), ('vl_ne', Decimal('400.00')), ('disponivel', Decimal('164.10')), ('n_nf', 3), ('data_nf', datetime.date(2020, 10, 24)), ('vl_nf', Decimal('235.90')), ('data_pg', datetime.date(2020, 11, 10))])\n"
     ]
    }
   ],
   "source": [
    "'''for rows in query:\n",
    "    print(list(rows.items()))\n",
    "    columns_list.append(list(rows.items()))'''\n",
    "for rows in query:\n",
    "    print(rows)\n",
    "    columns_list.append(rows)"
   ]
  },
  {
   "cell_type": "code",
   "execution_count": 91,
   "metadata": {},
   "outputs": [],
   "source": [
    "from reportlab.pdfgen import canvas\n",
    "import tempfile\n",
    "import os\n",
    "from reportlab.platypus import SimpleDocTemplate\n",
    "from reportlab.platypus.tables import Table\n",
    "from collections import OrderedDict\n",
    "\n",
    "from reportlab.lib.pagesizes import letter, A4, landscape\n",
    "\n",
    "c = canvas.Canvas('myfile.pdf')\n",
    "c.setPageSize(A4)\n",
    "width, height = A4 #keep for later\n",
    "\n",
    "    \n",
    "   "
   ]
  },
  {
   "cell_type": "code",
   "execution_count": 87,
   "metadata": {},
   "outputs": [
    {
     "data": {
      "text/plain": [
       "(595.2755905511812, 841.8897637795277)"
      ]
     },
     "execution_count": 87,
     "metadata": {},
     "output_type": "execute_result"
    }
   ],
   "source": [
    "width, height"
   ]
  },
  {
   "cell_type": "code",
   "execution_count": 89,
   "metadata": {},
   "outputs": [
    {
     "data": {
      "text/plain": [
       "(20.995370078740162, 29.693451968503943)"
      ]
     },
     "execution_count": 89,
     "metadata": {},
     "output_type": "execute_result"
    }
   ],
   "source": [
    "wcm = width*0.03527\n",
    "hcm = height*0.03527\n",
    "\n",
    "wcm, hcm"
   ]
  },
  {
   "cell_type": "code",
   "execution_count": 95,
   "metadata": {},
   "outputs": [
    {
     "data": {
      "text/plain": [
       "(7.351086614173223, -1.346995275590558)"
      ]
     },
     "execution_count": 95,
     "metadata": {},
     "output_type": "execute_result"
    }
   ],
   "source": [
    "a = cm - wcm\n",
    "b = cm - hcm\n",
    "\n",
    "a, b"
   ]
  },
  {
   "cell_type": "code",
   "execution_count": 157,
   "metadata": {},
   "outputs": [],
   "source": [
    "from reportlab.lib.units import cm\n",
    "from reportlab.lib.colors import pink, black, red, blue, green\n"
   ]
  },
  {
   "cell_type": "code",
   "execution_count": 223,
   "metadata": {},
   "outputs": [],
   "source": [
    "width, height = A4 #keep for later\n",
    "x_max = 20.995\n",
    "y_max = 29.693\n",
    "\n",
    "def papel_gradado(nome):\n",
    "    c = canvas.Canvas('{}.pdf'.format(nome))\n",
    "    c.setPageSize(A4)\n",
    "    c.setFont('Times-Bold', 12)\n",
    "    c.line(10*cm, 0, 10*cm, 29.693451968503943 * cm)\n",
    "    c.setFont('Times-Bold', 12)\n",
    "    c.drawInlineImage(logo_marinha, 9.2*cm, 27.0*cm, 2.54*cm, 2.6*cm)\n",
    "    c.drawCentredString(10.49*cm, 26.5*cm, 'MARINHA DO BRASIL')\n",
    "    c.drawCentredString(10.49*cm, 25.5*cm, 'GRUPAMENTO DE NAVIOS HIDROCEANOGRÁFICOS')\n",
    "    c.drawCentredString(10.49*cm, 24.5*cm, 'RELATÓRIO TESTE')\n",
    "    c.setFont('Times-Roman', 12)\n",
    "    c.drawString(1*cm,  23*cm, 'Navio: Navio Antares')\n",
    "    c.line(1*cm, 22.9*cm, 19.5*cm, 22.9*cm)\n",
    "    nivel_agrup1(c, 'agrup')\n",
    "    nivel_agrup2(c, 'agrup')\n",
    "    for x in range(21):\n",
    "        c.line(x*cm, 0, x*cm, y_max*cm)\n",
    "    for y in range(60):\n",
    "        c.setStrokeColor(blue)\n",
    "        c.line(0, (y/2)*cm, x_max*cm, (y/2)*cm)\n",
    "        '''if isinstance(y, int):\n",
    "            c.drawString(1*cm, y*cm, '{} cm'.format(y))'''\n",
    "    c.showPage()\n",
    "    c.save()"
   ]
  },
  {
   "cell_type": "code",
   "execution_count": 224,
   "metadata": {},
   "outputs": [],
   "source": [
    "papel_gradado('papel_gradado')"
   ]
  },
  {
   "cell_type": "code",
   "execution_count": 854,
   "metadata": {},
   "outputs": [],
   "source": [
    "logo_marinha = '/home/ymquint/programacao/Flask/controles/static/img/marinha.png'\n",
    "\n",
    "def relatorio(nome_docu, dados):\n",
    "    '''Dados será um orderdict derivado do query'''\n",
    "    c = canvas.Canvas('{}.pdf'.format(nome_docu))\n",
    "    c.setPageSize(A4)\n",
    "    c.setFont('Times-Bold', 12)\n",
    "    c.drawInlineImage(logo_marinha, 8.5*cm, 25.1*cm, 4*cm, 4*cm)\n",
    "    c.drawCentredString(10.49*cm, 24.5*cm, 'MARINHA DO BRASIL')\n",
    "    c.drawCentredString(10.49*cm, 23.5*cm, 'GRUPAMENTO DE NAVIOS HIDROCEANOGRÁFICOS')\n",
    "    c.drawCentredString(10.49*cm, 22.5*cm, 'RELATÓRIO {}'.format(nome_docu))\n",
    "    c.setFont('Times-Roman', 12)\n",
    "    #manter tracking se já foi inserido o item uma vez para não repetir\n",
    "    controle = dict()\n",
    "    counter = []\n",
    "    total_nf = 0\n",
    "    x = 1\n",
    "    y = 22\n",
    "    page = 0\n",
    "    for rows in dados:\n",
    "        if y <= 5.0:\n",
    "            if page == 0:\n",
    "                footer(c, 'user')\n",
    "            c.showPage()\n",
    "            y = 31\n",
    "            page += 1\n",
    "            footer(c, 'user')\n",
    "        if rows['nav'] not in controle:\n",
    "            y -= 1\n",
    "            if page >= 1:\n",
    "                y = 29\n",
    "            c.drawString(x*cm,  y*cm, 'Navio: {}'.format(rows['nav']))\n",
    "            controle[rows['nav']] = [rows['nav']]\n",
    "            c.line(x*cm, (y-0.3)*cm, 18*cm, (y-0.3)*cm)\n",
    "        if rows['nome_fornecedor'] not in counter:\n",
    "            if page >= 1:\n",
    "                y = 30\n",
    "            nivel_agrup1(c, rows['nome_fornecedor'], (x+1), (y-1))\n",
    "            controle[rows['nav']].append(rows['nome_fornecedor'])\n",
    "            counter.append(rows['nome_fornecedor'])\n",
    "        elif rows['nome_fornecedor'] not in controle[rows['nav']]:\n",
    "            if page >= 1:\n",
    "                y = 30\n",
    "            nivel_agrup1(c, rows['nome_fornecedor'], (x+1), (y-1))\n",
    "            controle[rows['nav']].append(rows['nome_fornecedor'])\n",
    "        if rows['n_ne'] not in counter:\n",
    "            nivel_agrup2(c, ['NE', 'Valor', 'Saldo'], [rows['n_ne'], rows['vl_ne'], rows['disponivel']], (x+1), (y-2))\n",
    "            controle[rows['nav']].append(rows['n_ne'])\n",
    "            counter.append(rows['n_ne'])\n",
    "            y -= 1.5\n",
    "        elif rows['n_ne'] not in controle[rows['nav']]:\n",
    "            nivel_agrup2(c, ['NE', 'Valor', 'Saldo'], [rows['n_ne'], rows['vl_ne'], rows['disponivel']], (x+1), (y-2))\n",
    "            controle[rows['nav']].append(rows['n_ne'])\n",
    "            y -= 1.5\n",
    "        total_nf += rows['vl_nf']\n",
    "        y = nivel_agrup3(c, ['Nota Fiscal', 'Data', 'Valor', 'Data de pagamento'], \n",
    "                               [rows['n_nf'], rows['data_nf'], rows['vl_nf'], rows['data_pg']], (x+2.5), (y-1.5))\n",
    "    if y <= 5:\n",
    "        y = 6\n",
    "        nivel_agrup4(c, total_nf, y)\n",
    "        footer(c, 'user')\n",
    "    else:\n",
    "        nivel_agrup4(c, total_nf, y)\n",
    "    c.showPage()\n",
    "    c.save()"
   ]
  },
  {
   "cell_type": "code",
   "execution_count": 818,
   "metadata": {},
   "outputs": [],
   "source": [
    "def nivel_agrup1(c, agrup, x, y):\n",
    "    c.setFont('Times-Roman', 12)\n",
    "    c.drawString(x*cm, y*cm, 'Fornecedor: {}'.format(agrup))\n",
    "    c.line(2*cm, (y-0.3)*cm, 18*cm, (y-0.3)*cm)"
   ]
  },
  {
   "cell_type": "code",
   "execution_count": 819,
   "metadata": {},
   "outputs": [],
   "source": [
    "def nivel_agrup2(c, columns, value, x, y):\n",
    "    i = 0\n",
    "    for column in columns:\n",
    "        c.drawString(x*cm, y*cm, '{}: {}'.format(column, value[i]))\n",
    "        i +=1\n",
    "        x += (17.5)/len(columns)\n",
    "    c.line(2*cm, (y-0.3)*cm, 18*cm, (y-0.3)*cm)"
   ]
  },
  {
   "cell_type": "code",
   "execution_count": 838,
   "metadata": {},
   "outputs": [],
   "source": [
    "def nivel_agrup3(c, columns, value, x, y):\n",
    "    y_final = column_value(c, value, columns, x, y)\n",
    "    y_final -= 0\n",
    "    return y_final"
   ]
  },
  {
   "cell_type": "code",
   "execution_count": 821,
   "metadata": {},
   "outputs": [],
   "source": [
    "def nivel_agrup4(c, total_nf, y):\n",
    "    s1 = 'Total NF: R$ {}'.format(total_nf)\n",
    "    if y <= 0 :\n",
    "        y = 31\n",
    "    cursormoves1(c, s1, 15*cm, (y-3.8)*cm, 1)"
   ]
  },
  {
   "cell_type": "code",
   "execution_count": 822,
   "metadata": {},
   "outputs": [],
   "source": [
    "def footer(c, user):\n",
    "    c.drawString(12*cm, 0.5*cm, 'Relatório gerado por: nip nome')"
   ]
  },
  {
   "cell_type": "code",
   "execution_count": 823,
   "metadata": {},
   "outputs": [],
   "source": [
    "def column_value(c, values, columns, x, y):\n",
    "    i = 0\n",
    "    for column in columns:\n",
    "        c.drawCentredString(x*cm, y*cm, column)\n",
    "        c.drawCentredString(x*cm, (y - 0.5)*cm, str(values[i]))\n",
    "        i += 1\n",
    "        x += (17.5)/len(columns)\n",
    "    return y"
   ]
  },
  {
   "cell_type": "code",
   "execution_count": 824,
   "metadata": {},
   "outputs": [],
   "source": [
    "'''1 maiuscula contem 0.33*cm\n",
    "são 02 minusculas a cada 0.33*cm considerar o espaço como uma letra'''\n",
    "\n",
    "def len_cm(string):\n",
    "    length = len(string)*0.2068\n",
    "    \n",
    "    return(length)"
   ]
  },
  {
   "cell_type": "code",
   "execution_count": 825,
   "metadata": {},
   "outputs": [],
   "source": [
    "def cursormoves1(canvas, text, x, y, wordspace):\n",
    "    canvas.setFont('Times-Roman', 12)\n",
    "    textobject = canvas.beginText()\n",
    "    textobject.setTextOrigin(x, y)\n",
    "    textobject.setWordSpace(wordspace)\n",
    "    textobject.textLine(text)\n",
    "    canvas.drawText(textobject)\n"
   ]
  },
  {
   "cell_type": "code",
   "execution_count": 855,
   "metadata": {},
   "outputs": [
    {
     "name": "stdout",
     "output_type": "stream",
     "text": [
      "linha navio y=21\n",
      "função agrup3 y = 18.0\n",
      "após agrup 3 y = 18.0\n",
      "função agrup3 y = 16.5\n",
      "após agrup 3 y = 16.5\n",
      "função agrup3 y = 13.5\n",
      "após agrup 3 y = 13.5\n",
      "linha navio y=12.5\n",
      "função agrup3 y = 9.5\n",
      "após agrup 3 y = 9.5\n",
      "função agrup3 y = 8.0\n",
      "após agrup 3 y = 8.0\n",
      "função agrup3 y = 6.5\n",
      "após agrup 3 y = 6.5\n",
      "função agrup3 y = 3.5\n",
      "após agrup 3 y = 3.5\n"
     ]
    }
   ],
   "source": [
    "relatorio(\"testeRelatorio\", columns_list)"
   ]
  },
  {
   "cell_type": "code",
   "execution_count": 779,
   "metadata": {},
   "outputs": [],
   "source": [
    "counter = dict()\n",
    "counter['h44'] = ['h']\n",
    "counter['h44'].append('fornecedor')"
   ]
  },
  {
   "cell_type": "code",
   "execution_count": 794,
   "metadata": {},
   "outputs": [
    {
     "data": {
      "text/plain": [
       "True"
      ]
     },
     "execution_count": 794,
     "metadata": {},
     "output_type": "execute_result"
    }
   ],
   "source": [
    "'fornecedor' in counter['h44']"
   ]
  },
  {
   "cell_type": "code",
   "execution_count": 790,
   "metadata": {},
   "outputs": [
    {
     "name": "stdout",
     "output_type": "stream",
     "text": [
      "True\n"
     ]
    }
   ],
   "source": [
    "for a in counter.values():\n",
    "    print('h' in a)"
   ]
  },
  {
   "cell_type": "code",
   "execution_count": 856,
   "metadata": {},
   "outputs": [],
   "source": [
    "import datetime"
   ]
  },
  {
   "cell_type": "code",
   "execution_count": 862,
   "metadata": {},
   "outputs": [
    {
     "data": {
      "text/plain": [
       "datetime.date(2020, 5, 20)"
      ]
     },
     "execution_count": 862,
     "metadata": {},
     "output_type": "execute_result"
    }
   ],
   "source": [
    "columns_list[0]['data_nf']\n"
   ]
  },
  {
   "cell_type": "code",
   "execution_count": 860,
   "metadata": {},
   "outputs": [],
   "source": [
    "x = columns_list[0]['data_nf']"
   ]
  },
  {
   "cell_type": "code",
   "execution_count": 864,
   "metadata": {},
   "outputs": [
    {
     "data": {
      "text/plain": [
       "'20/05/20'"
      ]
     },
     "execution_count": 864,
     "metadata": {},
     "output_type": "execute_result"
    }
   ],
   "source": [
    "x.strftime(\"%d/%m/%y\")"
   ]
  },
  {
   "cell_type": "code",
   "execution_count": null,
   "metadata": {},
   "outputs": [],
   "source": []
  }
 ],
 "metadata": {
  "kernelspec": {
   "display_name": "Python 3",
   "language": "python",
   "name": "python3"
  },
  "language_info": {
   "codemirror_mode": {
    "name": "ipython",
    "version": 3
   },
   "file_extension": ".py",
   "mimetype": "text/x-python",
   "name": "python",
   "nbconvert_exporter": "python",
   "pygments_lexer": "ipython3",
   "version": "3.8.5"
  }
 },
 "nbformat": 4,
 "nbformat_minor": 4
}
